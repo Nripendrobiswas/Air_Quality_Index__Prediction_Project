{
  "nbformat": 4,
  "nbformat_minor": 0,
  "metadata": {
    "colab": {
      "provenance": [],
      "authorship_tag": "ABX9TyMx6FeIc9F3QucZMRynvJ+4",
      "include_colab_link": true
    },
    "kernelspec": {
      "name": "python3",
      "display_name": "Python 3"
    },
    "language_info": {
      "name": "python"
    }
  },
  "cells": [
    {
      "cell_type": "markdown",
      "metadata": {
        "id": "view-in-github",
        "colab_type": "text"
      },
      "source": [
        "<a href=\"https://colab.research.google.com/github/Nripendrobiswas/Air_Quality_Index__Prediction_Project/blob/main/MergeCSV_Files.ipynb\" target=\"_parent\"><img src=\"https://colab.research.google.com/assets/colab-badge.svg\" alt=\"Open In Colab\"/></a>"
      ]
    },
    {
      "cell_type": "code",
      "source": [
        "import pandas as pd\n",
        "\n",
        "# List of file names\n",
        "file_names = ['airtemperature_Sylhet_Maximum_Temperature.csv', 'airtemperature_Sylhet_Mean Temperature_1978-12-01,2023-12-31_daily.csv', 'airtemperature_Sylhet_Minimum Temperature_1978-12-01,2023-12-31_daily.csv', 'humidity_Sylhet_Relative Humidity_1978-12-01,2023-12-31_daily.csv', 'rainfall_Sylhet_Precipitation_1978-12-01,2023-12-31_daily.csv', 'windspeed_Sylhet_Wind Speed_1978-12-01,2023-12-31_daily.csv']\n",
        "\n",
        "# Read the first CSV file to initialize the DataFrame\n",
        "merged_df = pd.read_csv(file_names[0])\n",
        "\n",
        "# Merge the remaining CSV files\n",
        "for file_name in file_names[1:]:\n",
        "    df = pd.read_csv(file_name)\n",
        "    merged_df = pd.merge(merged_df, df, on='Date', how='outer')\n",
        "\n",
        "# Write the merged DataFrame to a new CSV file\n",
        "merged_df.to_csv('merged_file.csv', index=False)\n"
      ],
      "metadata": {
        "id": "162aDeX9mLiM"
      },
      "execution_count": 2,
      "outputs": []
    }
  ]
}